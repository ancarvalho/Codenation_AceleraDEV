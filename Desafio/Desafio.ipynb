{
  "cells": [
    {
      "cell_type": "markdown",
      "metadata": {
        "id": "IaQhZ370LxOe",
        "colab_type": "text"
      },
      "source": [
        "**Bibliotecas Necessárias**"
      ]
    },
    {
      "cell_type": "code",
      "metadata": {
        "id": "DH4exCpo87w_",
        "colab_type": "code",
        "outputId": "b6413527-18bd-4ecf-c548-564263e65a55",
        "colab": {
          "base_uri": "https://localhost:8080/",
          "height": 52
        }
      },
      "source": [
        "import pandas as pd\n",
        "import numpy as np\n",
        "import matplotlib.pyplot as plt\n",
        "import seaborn as sns\n",
        "%matplotlib inline"
      ],
      "execution_count": 1,
      "outputs": [
        {
          "output_type": "stream",
          "text": [
            "/usr/local/lib/python3.6/dist-packages/statsmodels/tools/_testing.py:19: FutureWarning: pandas.util.testing is deprecated. Use the functions in the public API at pandas.testing instead.\n",
            "  import pandas.util.testing as tm\n"
          ],
          "name": "stderr"
        }
      ]
    },
    {
      "cell_type": "markdown",
      "metadata": {
        "id": "3vpWmdtmvwdA",
        "colab_type": "text"
      },
      "source": [
        "**Módulos Necessários Para Previsão**"
      ]
    },
    {
      "cell_type": "code",
      "metadata": {
        "id": "iCOvjH2yeYg0",
        "colab_type": "code",
        "colab": {}
      },
      "source": [
        "from sklearn.model_selection import RandomizedSearchCV, KFold, cross_val_score, train_test_split\n",
        "from sklearn.preprocessing import StandardScaler, MinMaxScaler\n",
        "from sklearn.ensemble import GradientBoostingRegressor, RandomForestRegressor\n",
        "from sklearn.metrics import mean_squared_error,r2_score\n",
        "import xgboost as xgb"
      ],
      "execution_count": 0,
      "outputs": []
    },
    {
      "cell_type": "code",
      "metadata": {
        "id": "ERRAWFpD9PEe",
        "colab_type": "code",
        "colab": {}
      },
      "source": [
        "test = pd.read_csv('test.csv') # Abrir o DataFrame test\n",
        "train = pd.read_csv('train.csv') # Abrir o DataFrame train"
      ],
      "execution_count": 0,
      "outputs": []
    },
    {
      "cell_type": "code",
      "metadata": {
        "id": "iEs780llI8dx",
        "colab_type": "code",
        "outputId": "8f6ada17-6414-465d-870f-c39b6d02a7bc",
        "colab": {
          "base_uri": "https://localhost:8080/",
          "height": 350
        }
      },
      "source": [
        "train.describe() # Breve Análise Das Colunas Do DataFrame train"
      ],
      "execution_count": 4,
      "outputs": [
        {
          "output_type": "execute_result",
          "data": {
            "text/html": [
              "<div>\n",
              "<style scoped>\n",
              "    .dataframe tbody tr th:only-of-type {\n",
              "        vertical-align: middle;\n",
              "    }\n",
              "\n",
              "    .dataframe tbody tr th {\n",
              "        vertical-align: top;\n",
              "    }\n",
              "\n",
              "    .dataframe thead th {\n",
              "        text-align: right;\n",
              "    }\n",
              "</style>\n",
              "<table border=\"1\" class=\"dataframe\">\n",
              "  <thead>\n",
              "    <tr style=\"text-align: right;\">\n",
              "      <th></th>\n",
              "      <th>Unnamed: 0</th>\n",
              "      <th>NU_ANO</th>\n",
              "      <th>CO_MUNICIPIO_RESIDENCIA</th>\n",
              "      <th>CO_UF_RESIDENCIA</th>\n",
              "      <th>NU_IDADE</th>\n",
              "      <th>TP_ESTADO_CIVIL</th>\n",
              "      <th>TP_COR_RACA</th>\n",
              "      <th>TP_NACIONALIDADE</th>\n",
              "      <th>CO_MUNICIPIO_NASCIMENTO</th>\n",
              "      <th>CO_UF_NASCIMENTO</th>\n",
              "      <th>TP_ST_CONCLUSAO</th>\n",
              "      <th>TP_ANO_CONCLUIU</th>\n",
              "      <th>TP_ESCOLA</th>\n",
              "      <th>TP_ENSINO</th>\n",
              "      <th>IN_TREINEIRO</th>\n",
              "      <th>CO_ESCOLA</th>\n",
              "      <th>CO_MUNICIPIO_ESC</th>\n",
              "      <th>CO_UF_ESC</th>\n",
              "      <th>TP_DEPENDENCIA_ADM_ESC</th>\n",
              "      <th>TP_LOCALIZACAO_ESC</th>\n",
              "      <th>TP_SIT_FUNC_ESC</th>\n",
              "      <th>IN_BAIXA_VISAO</th>\n",
              "      <th>IN_CEGUEIRA</th>\n",
              "      <th>IN_SURDEZ</th>\n",
              "      <th>IN_DEFICIENCIA_AUDITIVA</th>\n",
              "      <th>IN_SURDO_CEGUEIRA</th>\n",
              "      <th>IN_DEFICIENCIA_FISICA</th>\n",
              "      <th>IN_DEFICIENCIA_MENTAL</th>\n",
              "      <th>IN_DEFICIT_ATENCAO</th>\n",
              "      <th>IN_DISLEXIA</th>\n",
              "      <th>IN_DISCALCULIA</th>\n",
              "      <th>IN_AUTISMO</th>\n",
              "      <th>IN_VISAO_MONOCULAR</th>\n",
              "      <th>IN_OUTRA_DEF</th>\n",
              "      <th>IN_SABATISTA</th>\n",
              "      <th>IN_GESTANTE</th>\n",
              "      <th>IN_LACTANTE</th>\n",
              "      <th>IN_IDOSO</th>\n",
              "      <th>IN_ESTUDA_CLASSE_HOSPITALAR</th>\n",
              "      <th>IN_SEM_RECURSO</th>\n",
              "      <th>...</th>\n",
              "      <th>IN_SALA_INDIVIDUAL</th>\n",
              "      <th>IN_SALA_ESPECIAL</th>\n",
              "      <th>IN_SALA_ACOMPANHANTE</th>\n",
              "      <th>IN_MOBILIARIO_ESPECIFICO</th>\n",
              "      <th>IN_MATERIAL_ESPECIFICO</th>\n",
              "      <th>IN_NOME_SOCIAL</th>\n",
              "      <th>IN_CERTIFICADO</th>\n",
              "      <th>CO_UF_ENTIDADE_CERTIFICACAO</th>\n",
              "      <th>CO_MUNICIPIO_PROVA</th>\n",
              "      <th>CO_UF_PROVA</th>\n",
              "      <th>TP_PRESENCA_CN</th>\n",
              "      <th>TP_PRESENCA_CH</th>\n",
              "      <th>TP_PRESENCA_LC</th>\n",
              "      <th>TP_PRESENCA_MT</th>\n",
              "      <th>NU_NOTA_CN</th>\n",
              "      <th>NU_NOTA_CH</th>\n",
              "      <th>NU_NOTA_LC</th>\n",
              "      <th>NU_NOTA_MT</th>\n",
              "      <th>TP_LINGUA</th>\n",
              "      <th>TP_STATUS_REDACAO</th>\n",
              "      <th>NU_NOTA_COMP1</th>\n",
              "      <th>NU_NOTA_COMP2</th>\n",
              "      <th>NU_NOTA_COMP3</th>\n",
              "      <th>NU_NOTA_COMP4</th>\n",
              "      <th>NU_NOTA_COMP5</th>\n",
              "      <th>NU_NOTA_REDACAO</th>\n",
              "      <th>Q005</th>\n",
              "      <th>Q029</th>\n",
              "      <th>Q030</th>\n",
              "      <th>Q031</th>\n",
              "      <th>Q032</th>\n",
              "      <th>Q033</th>\n",
              "      <th>Q034</th>\n",
              "      <th>Q035</th>\n",
              "      <th>Q036</th>\n",
              "      <th>Q037</th>\n",
              "      <th>Q038</th>\n",
              "      <th>Q039</th>\n",
              "      <th>Q040</th>\n",
              "      <th>Q041</th>\n",
              "    </tr>\n",
              "  </thead>\n",
              "  <tbody>\n",
              "    <tr>\n",
              "      <th>count</th>\n",
              "      <td>13730.000000</td>\n",
              "      <td>13730.0</td>\n",
              "      <td>1.373000e+04</td>\n",
              "      <td>13730.000000</td>\n",
              "      <td>13730.000000</td>\n",
              "      <td>13202.000000</td>\n",
              "      <td>13730.000000</td>\n",
              "      <td>13730.000000</td>\n",
              "      <td>1.312100e+04</td>\n",
              "      <td>13121.000000</td>\n",
              "      <td>13730.000000</td>\n",
              "      <td>13730.000000</td>\n",
              "      <td>13730.000000</td>\n",
              "      <td>4282.000000</td>\n",
              "      <td>13730.000000</td>\n",
              "      <td>4.282000e+03</td>\n",
              "      <td>4.282000e+03</td>\n",
              "      <td>4282.000000</td>\n",
              "      <td>4282.000000</td>\n",
              "      <td>4282.000000</td>\n",
              "      <td>4282.000000</td>\n",
              "      <td>13730.000000</td>\n",
              "      <td>13730.0</td>\n",
              "      <td>13730.000000</td>\n",
              "      <td>13730.000000</td>\n",
              "      <td>13730.0</td>\n",
              "      <td>13730.000000</td>\n",
              "      <td>13730.000000</td>\n",
              "      <td>13730.000000</td>\n",
              "      <td>13730.000000</td>\n",
              "      <td>13730.000000</td>\n",
              "      <td>13730.0</td>\n",
              "      <td>13730.000000</td>\n",
              "      <td>13730.000000</td>\n",
              "      <td>13730.000000</td>\n",
              "      <td>13730.000000</td>\n",
              "      <td>13730.000000</td>\n",
              "      <td>13730.000000</td>\n",
              "      <td>13730.0</td>\n",
              "      <td>13730.000000</td>\n",
              "      <td>...</td>\n",
              "      <td>13730.0</td>\n",
              "      <td>13730.000000</td>\n",
              "      <td>13730.0</td>\n",
              "      <td>13730.0</td>\n",
              "      <td>13730.0</td>\n",
              "      <td>13730.000000</td>\n",
              "      <td>13730.000000</td>\n",
              "      <td>1638.000000</td>\n",
              "      <td>1.373000e+04</td>\n",
              "      <td>13730.000000</td>\n",
              "      <td>13730.000000</td>\n",
              "      <td>13730.000000</td>\n",
              "      <td>13730.000000</td>\n",
              "      <td>13730.000000</td>\n",
              "      <td>10341.000000</td>\n",
              "      <td>10341.000000</td>\n",
              "      <td>10133.000000</td>\n",
              "      <td>10133.000000</td>\n",
              "      <td>13730.000000</td>\n",
              "      <td>10133.000000</td>\n",
              "      <td>10133.000000</td>\n",
              "      <td>10133.000000</td>\n",
              "      <td>10133.000000</td>\n",
              "      <td>10133.000000</td>\n",
              "      <td>10133.000000</td>\n",
              "      <td>10133.000000</td>\n",
              "      <td>13730.000000</td>\n",
              "      <td>6355.000000</td>\n",
              "      <td>6355.000000</td>\n",
              "      <td>6354.000000</td>\n",
              "      <td>6354.000000</td>\n",
              "      <td>6354.000000</td>\n",
              "      <td>13730.000000</td>\n",
              "      <td>13730.000000</td>\n",
              "      <td>13730.000000</td>\n",
              "      <td>13730.000000</td>\n",
              "      <td>13730.000000</td>\n",
              "      <td>13730.000000</td>\n",
              "      <td>13730.000000</td>\n",
              "      <td>2938.000000</td>\n",
              "    </tr>\n",
              "    <tr>\n",
              "      <th>mean</th>\n",
              "      <td>2288.173926</td>\n",
              "      <td>2016.0</td>\n",
              "      <td>3.088548e+06</td>\n",
              "      <td>30.736708</td>\n",
              "      <td>21.593809</td>\n",
              "      <td>0.116043</td>\n",
              "      <td>2.185652</td>\n",
              "      <td>1.048871</td>\n",
              "      <td>3.057946e+06</td>\n",
              "      <td>30.429159</td>\n",
              "      <td>1.782666</td>\n",
              "      <td>2.146176</td>\n",
              "      <td>1.353532</td>\n",
              "      <td>1.178888</td>\n",
              "      <td>0.129862</td>\n",
              "      <td>3.121720e+07</td>\n",
              "      <td>3.123638e+06</td>\n",
              "      <td>31.085474</td>\n",
              "      <td>2.259692</td>\n",
              "      <td>1.030827</td>\n",
              "      <td>1.001635</td>\n",
              "      <td>0.001238</td>\n",
              "      <td>0.0</td>\n",
              "      <td>0.000364</td>\n",
              "      <td>0.000510</td>\n",
              "      <td>0.0</td>\n",
              "      <td>0.002185</td>\n",
              "      <td>0.000146</td>\n",
              "      <td>0.000947</td>\n",
              "      <td>0.000073</td>\n",
              "      <td>0.000073</td>\n",
              "      <td>0.0</td>\n",
              "      <td>0.000437</td>\n",
              "      <td>0.000510</td>\n",
              "      <td>0.009687</td>\n",
              "      <td>0.000947</td>\n",
              "      <td>0.001602</td>\n",
              "      <td>0.000146</td>\n",
              "      <td>0.0</td>\n",
              "      <td>0.004151</td>\n",
              "      <td>...</td>\n",
              "      <td>0.0</td>\n",
              "      <td>0.000073</td>\n",
              "      <td>0.0</td>\n",
              "      <td>0.0</td>\n",
              "      <td>0.0</td>\n",
              "      <td>0.000364</td>\n",
              "      <td>0.119301</td>\n",
              "      <td>30.639194</td>\n",
              "      <td>3.085637e+06</td>\n",
              "      <td>30.709250</td>\n",
              "      <td>0.754479</td>\n",
              "      <td>0.754479</td>\n",
              "      <td>0.738747</td>\n",
              "      <td>0.738747</td>\n",
              "      <td>473.495155</td>\n",
              "      <td>529.661087</td>\n",
              "      <td>516.472841</td>\n",
              "      <td>482.497928</td>\n",
              "      <td>0.593664</td>\n",
              "      <td>1.101747</td>\n",
              "      <td>119.811704</td>\n",
              "      <td>111.915918</td>\n",
              "      <td>106.824238</td>\n",
              "      <td>113.123951</td>\n",
              "      <td>77.372446</td>\n",
              "      <td>529.048258</td>\n",
              "      <td>4.083467</td>\n",
              "      <td>3.833360</td>\n",
              "      <td>2.608812</td>\n",
              "      <td>4.375984</td>\n",
              "      <td>4.530217</td>\n",
              "      <td>3.962858</td>\n",
              "      <td>4.645594</td>\n",
              "      <td>4.678441</td>\n",
              "      <td>3.341515</td>\n",
              "      <td>4.458995</td>\n",
              "      <td>3.724618</td>\n",
              "      <td>3.506409</td>\n",
              "      <td>4.442098</td>\n",
              "      <td>3.671545</td>\n",
              "    </tr>\n",
              "    <tr>\n",
              "      <th>std</th>\n",
              "      <td>1321.230607</td>\n",
              "      <td>0.0</td>\n",
              "      <td>9.890495e+05</td>\n",
              "      <td>9.862405</td>\n",
              "      <td>7.043654</td>\n",
              "      <td>0.365986</td>\n",
              "      <td>1.007285</td>\n",
              "      <td>0.258895</td>\n",
              "      <td>9.703020e+05</td>\n",
              "      <td>9.670030</td>\n",
              "      <td>0.880734</td>\n",
              "      <td>3.217328</td>\n",
              "      <td>0.558472</td>\n",
              "      <td>0.565490</td>\n",
              "      <td>0.336163</td>\n",
              "      <td>9.540289e+06</td>\n",
              "      <td>9.574114e+05</td>\n",
              "      <td>9.546193</td>\n",
              "      <td>0.698586</td>\n",
              "      <td>0.172868</td>\n",
              "      <td>0.040404</td>\n",
              "      <td>0.035167</td>\n",
              "      <td>0.0</td>\n",
              "      <td>0.019080</td>\n",
              "      <td>0.022575</td>\n",
              "      <td>0.0</td>\n",
              "      <td>0.046695</td>\n",
              "      <td>0.012069</td>\n",
              "      <td>0.030757</td>\n",
              "      <td>0.008534</td>\n",
              "      <td>0.008534</td>\n",
              "      <td>0.0</td>\n",
              "      <td>0.020901</td>\n",
              "      <td>0.022575</td>\n",
              "      <td>0.097947</td>\n",
              "      <td>0.030757</td>\n",
              "      <td>0.039998</td>\n",
              "      <td>0.012069</td>\n",
              "      <td>0.0</td>\n",
              "      <td>0.064301</td>\n",
              "      <td>...</td>\n",
              "      <td>0.0</td>\n",
              "      <td>0.008534</td>\n",
              "      <td>0.0</td>\n",
              "      <td>0.0</td>\n",
              "      <td>0.0</td>\n",
              "      <td>0.019080</td>\n",
              "      <td>0.324154</td>\n",
              "      <td>9.884543</td>\n",
              "      <td>9.888721e+05</td>\n",
              "      <td>9.860227</td>\n",
              "      <td>0.431932</td>\n",
              "      <td>0.431932</td>\n",
              "      <td>0.440162</td>\n",
              "      <td>0.440162</td>\n",
              "      <td>71.093674</td>\n",
              "      <td>73.726344</td>\n",
              "      <td>68.688190</td>\n",
              "      <td>99.826323</td>\n",
              "      <td>0.491167</td>\n",
              "      <td>0.700100</td>\n",
              "      <td>29.846017</td>\n",
              "      <td>33.737588</td>\n",
              "      <td>34.341349</td>\n",
              "      <td>33.480033</td>\n",
              "      <td>43.067140</td>\n",
              "      <td>154.294758</td>\n",
              "      <td>1.603004</td>\n",
              "      <td>1.661301</td>\n",
              "      <td>2.234009</td>\n",
              "      <td>1.210998</td>\n",
              "      <td>1.027613</td>\n",
              "      <td>1.625356</td>\n",
              "      <td>0.920998</td>\n",
              "      <td>0.865039</td>\n",
              "      <td>1.711930</td>\n",
              "      <td>1.200172</td>\n",
              "      <td>1.689362</td>\n",
              "      <td>1.718858</td>\n",
              "      <td>1.181549</td>\n",
              "      <td>1.746444</td>\n",
              "    </tr>\n",
              "    <tr>\n",
              "      <th>min</th>\n",
              "      <td>0.000000</td>\n",
              "      <td>2016.0</td>\n",
              "      <td>1.100023e+06</td>\n",
              "      <td>11.000000</td>\n",
              "      <td>13.000000</td>\n",
              "      <td>0.000000</td>\n",
              "      <td>0.000000</td>\n",
              "      <td>0.000000</td>\n",
              "      <td>1.100023e+06</td>\n",
              "      <td>11.000000</td>\n",
              "      <td>1.000000</td>\n",
              "      <td>0.000000</td>\n",
              "      <td>1.000000</td>\n",
              "      <td>1.000000</td>\n",
              "      <td>0.000000</td>\n",
              "      <td>1.100189e+07</td>\n",
              "      <td>1.100023e+06</td>\n",
              "      <td>11.000000</td>\n",
              "      <td>1.000000</td>\n",
              "      <td>1.000000</td>\n",
              "      <td>1.000000</td>\n",
              "      <td>0.000000</td>\n",
              "      <td>0.0</td>\n",
              "      <td>0.000000</td>\n",
              "      <td>0.000000</td>\n",
              "      <td>0.0</td>\n",
              "      <td>0.000000</td>\n",
              "      <td>0.000000</td>\n",
              "      <td>0.000000</td>\n",
              "      <td>0.000000</td>\n",
              "      <td>0.000000</td>\n",
              "      <td>0.0</td>\n",
              "      <td>0.000000</td>\n",
              "      <td>0.000000</td>\n",
              "      <td>0.000000</td>\n",
              "      <td>0.000000</td>\n",
              "      <td>0.000000</td>\n",
              "      <td>0.000000</td>\n",
              "      <td>0.0</td>\n",
              "      <td>0.000000</td>\n",
              "      <td>...</td>\n",
              "      <td>0.0</td>\n",
              "      <td>0.000000</td>\n",
              "      <td>0.0</td>\n",
              "      <td>0.0</td>\n",
              "      <td>0.0</td>\n",
              "      <td>0.000000</td>\n",
              "      <td>0.000000</td>\n",
              "      <td>11.000000</td>\n",
              "      <td>1.100023e+06</td>\n",
              "      <td>11.000000</td>\n",
              "      <td>0.000000</td>\n",
              "      <td>0.000000</td>\n",
              "      <td>0.000000</td>\n",
              "      <td>0.000000</td>\n",
              "      <td>0.000000</td>\n",
              "      <td>0.000000</td>\n",
              "      <td>0.000000</td>\n",
              "      <td>0.000000</td>\n",
              "      <td>0.000000</td>\n",
              "      <td>1.000000</td>\n",
              "      <td>0.000000</td>\n",
              "      <td>0.000000</td>\n",
              "      <td>0.000000</td>\n",
              "      <td>0.000000</td>\n",
              "      <td>0.000000</td>\n",
              "      <td>0.000000</td>\n",
              "      <td>1.000000</td>\n",
              "      <td>0.000000</td>\n",
              "      <td>0.000000</td>\n",
              "      <td>0.000000</td>\n",
              "      <td>0.000000</td>\n",
              "      <td>0.000000</td>\n",
              "      <td>0.000000</td>\n",
              "      <td>0.000000</td>\n",
              "      <td>0.000000</td>\n",
              "      <td>0.000000</td>\n",
              "      <td>0.000000</td>\n",
              "      <td>0.000000</td>\n",
              "      <td>0.000000</td>\n",
              "      <td>0.000000</td>\n",
              "    </tr>\n",
              "    <tr>\n",
              "      <th>25%</th>\n",
              "      <td>1144.000000</td>\n",
              "      <td>2016.0</td>\n",
              "      <td>2.307650e+06</td>\n",
              "      <td>23.000000</td>\n",
              "      <td>17.000000</td>\n",
              "      <td>0.000000</td>\n",
              "      <td>1.000000</td>\n",
              "      <td>1.000000</td>\n",
              "      <td>2.306900e+06</td>\n",
              "      <td>23.000000</td>\n",
              "      <td>1.000000</td>\n",
              "      <td>0.000000</td>\n",
              "      <td>1.000000</td>\n",
              "      <td>1.000000</td>\n",
              "      <td>0.000000</td>\n",
              "      <td>2.316566e+07</td>\n",
              "      <td>2.308377e+06</td>\n",
              "      <td>23.000000</td>\n",
              "      <td>2.000000</td>\n",
              "      <td>1.000000</td>\n",
              "      <td>1.000000</td>\n",
              "      <td>0.000000</td>\n",
              "      <td>0.0</td>\n",
              "      <td>0.000000</td>\n",
              "      <td>0.000000</td>\n",
              "      <td>0.0</td>\n",
              "      <td>0.000000</td>\n",
              "      <td>0.000000</td>\n",
              "      <td>0.000000</td>\n",
              "      <td>0.000000</td>\n",
              "      <td>0.000000</td>\n",
              "      <td>0.0</td>\n",
              "      <td>0.000000</td>\n",
              "      <td>0.000000</td>\n",
              "      <td>0.000000</td>\n",
              "      <td>0.000000</td>\n",
              "      <td>0.000000</td>\n",
              "      <td>0.000000</td>\n",
              "      <td>0.0</td>\n",
              "      <td>0.000000</td>\n",
              "      <td>...</td>\n",
              "      <td>0.0</td>\n",
              "      <td>0.000000</td>\n",
              "      <td>0.0</td>\n",
              "      <td>0.0</td>\n",
              "      <td>0.0</td>\n",
              "      <td>0.000000</td>\n",
              "      <td>0.000000</td>\n",
              "      <td>23.000000</td>\n",
              "      <td>2.307650e+06</td>\n",
              "      <td>23.000000</td>\n",
              "      <td>1.000000</td>\n",
              "      <td>1.000000</td>\n",
              "      <td>0.000000</td>\n",
              "      <td>0.000000</td>\n",
              "      <td>419.900000</td>\n",
              "      <td>480.400000</td>\n",
              "      <td>468.100000</td>\n",
              "      <td>408.900000</td>\n",
              "      <td>0.000000</td>\n",
              "      <td>1.000000</td>\n",
              "      <td>120.000000</td>\n",
              "      <td>100.000000</td>\n",
              "      <td>80.000000</td>\n",
              "      <td>100.000000</td>\n",
              "      <td>40.000000</td>\n",
              "      <td>440.000000</td>\n",
              "      <td>3.000000</td>\n",
              "      <td>3.000000</td>\n",
              "      <td>0.000000</td>\n",
              "      <td>4.000000</td>\n",
              "      <td>5.000000</td>\n",
              "      <td>3.000000</td>\n",
              "      <td>5.000000</td>\n",
              "      <td>5.000000</td>\n",
              "      <td>2.000000</td>\n",
              "      <td>5.000000</td>\n",
              "      <td>3.000000</td>\n",
              "      <td>2.000000</td>\n",
              "      <td>4.000000</td>\n",
              "      <td>3.000000</td>\n",
              "    </tr>\n",
              "    <tr>\n",
              "      <th>50%</th>\n",
              "      <td>2288.000000</td>\n",
              "      <td>2016.0</td>\n",
              "      <td>3.118601e+06</td>\n",
              "      <td>31.000000</td>\n",
              "      <td>19.000000</td>\n",
              "      <td>0.000000</td>\n",
              "      <td>3.000000</td>\n",
              "      <td>1.000000</td>\n",
              "      <td>3.106200e+06</td>\n",
              "      <td>31.000000</td>\n",
              "      <td>2.000000</td>\n",
              "      <td>0.000000</td>\n",
              "      <td>1.000000</td>\n",
              "      <td>1.000000</td>\n",
              "      <td>0.000000</td>\n",
              "      <td>3.112482e+07</td>\n",
              "      <td>3.142908e+06</td>\n",
              "      <td>31.000000</td>\n",
              "      <td>2.000000</td>\n",
              "      <td>1.000000</td>\n",
              "      <td>1.000000</td>\n",
              "      <td>0.000000</td>\n",
              "      <td>0.0</td>\n",
              "      <td>0.000000</td>\n",
              "      <td>0.000000</td>\n",
              "      <td>0.0</td>\n",
              "      <td>0.000000</td>\n",
              "      <td>0.000000</td>\n",
              "      <td>0.000000</td>\n",
              "      <td>0.000000</td>\n",
              "      <td>0.000000</td>\n",
              "      <td>0.0</td>\n",
              "      <td>0.000000</td>\n",
              "      <td>0.000000</td>\n",
              "      <td>0.000000</td>\n",
              "      <td>0.000000</td>\n",
              "      <td>0.000000</td>\n",
              "      <td>0.000000</td>\n",
              "      <td>0.0</td>\n",
              "      <td>0.000000</td>\n",
              "      <td>...</td>\n",
              "      <td>0.0</td>\n",
              "      <td>0.000000</td>\n",
              "      <td>0.0</td>\n",
              "      <td>0.0</td>\n",
              "      <td>0.0</td>\n",
              "      <td>0.000000</td>\n",
              "      <td>0.000000</td>\n",
              "      <td>31.000000</td>\n",
              "      <td>3.111200e+06</td>\n",
              "      <td>31.000000</td>\n",
              "      <td>1.000000</td>\n",
              "      <td>1.000000</td>\n",
              "      <td>1.000000</td>\n",
              "      <td>1.000000</td>\n",
              "      <td>459.800000</td>\n",
              "      <td>532.000000</td>\n",
              "      <td>520.900000</td>\n",
              "      <td>461.200000</td>\n",
              "      <td>1.000000</td>\n",
              "      <td>1.000000</td>\n",
              "      <td>120.000000</td>\n",
              "      <td>120.000000</td>\n",
              "      <td>120.000000</td>\n",
              "      <td>120.000000</td>\n",
              "      <td>80.000000</td>\n",
              "      <td>540.000000</td>\n",
              "      <td>4.000000</td>\n",
              "      <td>5.000000</td>\n",
              "      <td>3.000000</td>\n",
              "      <td>5.000000</td>\n",
              "      <td>5.000000</td>\n",
              "      <td>5.000000</td>\n",
              "      <td>5.000000</td>\n",
              "      <td>5.000000</td>\n",
              "      <td>4.000000</td>\n",
              "      <td>5.000000</td>\n",
              "      <td>5.000000</td>\n",
              "      <td>4.000000</td>\n",
              "      <td>5.000000</td>\n",
              "      <td>5.000000</td>\n",
              "    </tr>\n",
              "    <tr>\n",
              "      <th>75%</th>\n",
              "      <td>3432.000000</td>\n",
              "      <td>2016.0</td>\n",
              "      <td>3.550308e+06</td>\n",
              "      <td>35.000000</td>\n",
              "      <td>23.000000</td>\n",
              "      <td>0.000000</td>\n",
              "      <td>3.000000</td>\n",
              "      <td>1.000000</td>\n",
              "      <td>3.549805e+06</td>\n",
              "      <td>35.000000</td>\n",
              "      <td>2.000000</td>\n",
              "      <td>3.000000</td>\n",
              "      <td>2.000000</td>\n",
              "      <td>1.000000</td>\n",
              "      <td>0.000000</td>\n",
              "      <td>3.516519e+07</td>\n",
              "      <td>3.550308e+06</td>\n",
              "      <td>35.000000</td>\n",
              "      <td>2.000000</td>\n",
              "      <td>1.000000</td>\n",
              "      <td>1.000000</td>\n",
              "      <td>0.000000</td>\n",
              "      <td>0.0</td>\n",
              "      <td>0.000000</td>\n",
              "      <td>0.000000</td>\n",
              "      <td>0.0</td>\n",
              "      <td>0.000000</td>\n",
              "      <td>0.000000</td>\n",
              "      <td>0.000000</td>\n",
              "      <td>0.000000</td>\n",
              "      <td>0.000000</td>\n",
              "      <td>0.0</td>\n",
              "      <td>0.000000</td>\n",
              "      <td>0.000000</td>\n",
              "      <td>0.000000</td>\n",
              "      <td>0.000000</td>\n",
              "      <td>0.000000</td>\n",
              "      <td>0.000000</td>\n",
              "      <td>0.0</td>\n",
              "      <td>0.000000</td>\n",
              "      <td>...</td>\n",
              "      <td>0.0</td>\n",
              "      <td>0.000000</td>\n",
              "      <td>0.0</td>\n",
              "      <td>0.0</td>\n",
              "      <td>0.0</td>\n",
              "      <td>0.000000</td>\n",
              "      <td>0.000000</td>\n",
              "      <td>35.000000</td>\n",
              "      <td>3.549805e+06</td>\n",
              "      <td>35.000000</td>\n",
              "      <td>1.000000</td>\n",
              "      <td>1.000000</td>\n",
              "      <td>1.000000</td>\n",
              "      <td>1.000000</td>\n",
              "      <td>514.500000</td>\n",
              "      <td>581.200000</td>\n",
              "      <td>564.900000</td>\n",
              "      <td>537.600000</td>\n",
              "      <td>1.000000</td>\n",
              "      <td>1.000000</td>\n",
              "      <td>140.000000</td>\n",
              "      <td>120.000000</td>\n",
              "      <td>120.000000</td>\n",
              "      <td>120.000000</td>\n",
              "      <td>100.000000</td>\n",
              "      <td>600.000000</td>\n",
              "      <td>5.000000</td>\n",
              "      <td>5.000000</td>\n",
              "      <td>5.000000</td>\n",
              "      <td>5.000000</td>\n",
              "      <td>5.000000</td>\n",
              "      <td>5.000000</td>\n",
              "      <td>5.000000</td>\n",
              "      <td>5.000000</td>\n",
              "      <td>5.000000</td>\n",
              "      <td>5.000000</td>\n",
              "      <td>5.000000</td>\n",
              "      <td>5.000000</td>\n",
              "      <td>5.000000</td>\n",
              "      <td>5.000000</td>\n",
              "    </tr>\n",
              "    <tr>\n",
              "      <th>max</th>\n",
              "      <td>4586.000000</td>\n",
              "      <td>2016.0</td>\n",
              "      <td>5.300108e+06</td>\n",
              "      <td>53.000000</td>\n",
              "      <td>67.000000</td>\n",
              "      <td>3.000000</td>\n",
              "      <td>5.000000</td>\n",
              "      <td>4.000000</td>\n",
              "      <td>5.300108e+06</td>\n",
              "      <td>53.000000</td>\n",
              "      <td>4.000000</td>\n",
              "      <td>10.000000</td>\n",
              "      <td>4.000000</td>\n",
              "      <td>3.000000</td>\n",
              "      <td>1.000000</td>\n",
              "      <td>5.306809e+07</td>\n",
              "      <td>5.300108e+06</td>\n",
              "      <td>53.000000</td>\n",
              "      <td>4.000000</td>\n",
              "      <td>2.000000</td>\n",
              "      <td>2.000000</td>\n",
              "      <td>1.000000</td>\n",
              "      <td>0.0</td>\n",
              "      <td>1.000000</td>\n",
              "      <td>1.000000</td>\n",
              "      <td>0.0</td>\n",
              "      <td>1.000000</td>\n",
              "      <td>1.000000</td>\n",
              "      <td>1.000000</td>\n",
              "      <td>1.000000</td>\n",
              "      <td>1.000000</td>\n",
              "      <td>0.0</td>\n",
              "      <td>1.000000</td>\n",
              "      <td>1.000000</td>\n",
              "      <td>1.000000</td>\n",
              "      <td>1.000000</td>\n",
              "      <td>1.000000</td>\n",
              "      <td>1.000000</td>\n",
              "      <td>0.0</td>\n",
              "      <td>1.000000</td>\n",
              "      <td>...</td>\n",
              "      <td>0.0</td>\n",
              "      <td>1.000000</td>\n",
              "      <td>0.0</td>\n",
              "      <td>0.0</td>\n",
              "      <td>0.0</td>\n",
              "      <td>1.000000</td>\n",
              "      <td>1.000000</td>\n",
              "      <td>53.000000</td>\n",
              "      <td>5.300108e+06</td>\n",
              "      <td>53.000000</td>\n",
              "      <td>2.000000</td>\n",
              "      <td>2.000000</td>\n",
              "      <td>2.000000</td>\n",
              "      <td>2.000000</td>\n",
              "      <td>806.400000</td>\n",
              "      <td>807.000000</td>\n",
              "      <td>763.600000</td>\n",
              "      <td>952.000000</td>\n",
              "      <td>1.000000</td>\n",
              "      <td>9.000000</td>\n",
              "      <td>200.000000</td>\n",
              "      <td>200.000000</td>\n",
              "      <td>200.000000</td>\n",
              "      <td>200.000000</td>\n",
              "      <td>200.000000</td>\n",
              "      <td>1000.000000</td>\n",
              "      <td>20.000000</td>\n",
              "      <td>5.000000</td>\n",
              "      <td>5.000000</td>\n",
              "      <td>5.000000</td>\n",
              "      <td>5.000000</td>\n",
              "      <td>5.000000</td>\n",
              "      <td>5.000000</td>\n",
              "      <td>5.000000</td>\n",
              "      <td>5.000000</td>\n",
              "      <td>5.000000</td>\n",
              "      <td>5.000000</td>\n",
              "      <td>5.000000</td>\n",
              "      <td>5.000000</td>\n",
              "      <td>5.000000</td>\n",
              "    </tr>\n",
              "  </tbody>\n",
              "</table>\n",
              "<p>8 rows × 107 columns</p>\n",
              "</div>"
            ],
            "text/plain": [
              "         Unnamed: 0   NU_ANO  ...          Q040         Q041\n",
              "count  13730.000000  13730.0  ...  13730.000000  2938.000000\n",
              "mean    2288.173926   2016.0  ...      4.442098     3.671545\n",
              "std     1321.230607      0.0  ...      1.181549     1.746444\n",
              "min        0.000000   2016.0  ...      0.000000     0.000000\n",
              "25%     1144.000000   2016.0  ...      4.000000     3.000000\n",
              "50%     2288.000000   2016.0  ...      5.000000     5.000000\n",
              "75%     3432.000000   2016.0  ...      5.000000     5.000000\n",
              "max     4586.000000   2016.0  ...      5.000000     5.000000\n",
              "\n",
              "[8 rows x 107 columns]"
            ]
          },
          "metadata": {
            "tags": []
          },
          "execution_count": 4
        }
      ]
    },
    {
      "cell_type": "markdown",
      "metadata": {
        "id": "_ONpFYM0Cpb2",
        "colab_type": "text"
      },
      "source": [
        "**Correlações**\n",
        "\n",
        "---\n",
        "Os Valores Abaixo São Absolutos Portanto Podem Ser Positivas ou Negativas\n",
        "\n",
        "> * 0.00 a 0.19      --> *Correlação Muito Fraca*\n",
        "\n",
        "> * 0.20 a 0.39      --> *Correlação Fraca*\n",
        "\n",
        "> * 0.40 a 0.69      --> *Correlação Moderada*\n",
        "\n",
        "> * 0.70 a 0.89      --> *Correlação Forte*\n",
        "\n",
        "> * 0.90 a 1.00      --> *Correlação Muito Forte*\n",
        "\n",
        "\n",
        "\n"
      ]
    },
    {
      "cell_type": "markdown",
      "metadata": {
        "id": "uuboPGRxFyUo",
        "colab_type": "text"
      },
      "source": [
        "**Somente Correlações Maiores Que 0.3(*)**\n",
        "* *Valor Absoluto"
      ]
    },
    {
      "cell_type": "code",
      "metadata": {
        "id": "fC71SxDhALB1",
        "colab_type": "code",
        "colab": {}
      },
      "source": [
        "correlation = train.corr()\n",
        "medium_high_corr = correlation[(correlation['NU_NOTA_MT'] < -0.3) | \n",
        "                        (correlation['NU_NOTA_MT'] >  0.3) & \n",
        "                        (correlation['NU_NOTA_MT'] < 1)\n",
        "                        ]['NU_NOTA_MT']\n",
        "correlation_list = medium_high_corr.index.tolist()\n",
        "correlation_list_mat = correlation_list.copy() + ['NU_NOTA_MT']"
      ],
      "execution_count": 0,
      "outputs": []
    },
    {
      "cell_type": "code",
      "metadata": {
        "id": "HP0HDdi1Rth4",
        "colab_type": "code",
        "outputId": "7efeb97f-129b-4e8c-c4a5-491d47e5ea13",
        "colab": {
          "base_uri": "https://localhost:8080/",
          "height": 740
        }
      },
      "source": [
        "corr = train[correlation_list_mat].corr()\n",
        "plt.figure(figsize=(10,10))\n",
        "mask = np.zeros_like(corr)\n",
        "mask[np.triu_indices_from(mask)] = True\n",
        "sns.heatmap(corr,\n",
        "            mask=mask,\n",
        "            annot=True,\n",
        "            cmap='Blues',\n",
        "            linewidths=.5,\n",
        "            )"
      ],
      "execution_count": 6,
      "outputs": [
        {
          "output_type": "execute_result",
          "data": {
            "text/plain": [
              "<matplotlib.axes._subplots.AxesSubplot at 0x7fd339880898>"
            ]
          },
          "metadata": {
            "tags": []
          },
          "execution_count": 6
        },
        {
          "output_type": "display_data",
          "data": {
            "image/png": "[encoded data removed]",
            "text/plain": [
              "<Figure size 720x720 with 2 Axes>"
            ]
          },
          "metadata": {
            "tags": [],
            "needs_background": "light"
          }
        }
      ]
    },
    {
      "cell_type": "markdown",
      "metadata": {
        "id": "53ctvatiCJ-b",
        "colab_type": "text"
      },
      "source": [
        "**Verificar Quantidade De NaN Nas Colunas Relacionadas**"
      ]
    },
    {
      "cell_type": "code",
      "metadata": {
        "id": "ryRXR6miSncN",
        "colab_type": "code",
        "outputId": "091af726-14d4-40b8-959f-ad5297ab0243",
        "colab": {
          "base_uri": "https://localhost:8080/",
          "height": 208
        }
      },
      "source": [
        "train[correlation_list_mat].isnull().sum()"
      ],
      "execution_count": 7,
      "outputs": [
        {
          "output_type": "execute_result",
          "data": {
            "text/plain": [
              "TP_DEPENDENCIA_ADM_ESC    9448\n",
              "NU_NOTA_CN                3389\n",
              "NU_NOTA_CH                3389\n",
              "NU_NOTA_LC                3597\n",
              "NU_NOTA_COMP2             3597\n",
              "NU_NOTA_COMP3             3597\n",
              "NU_NOTA_COMP4             3597\n",
              "NU_NOTA_COMP5             3597\n",
              "NU_NOTA_REDACAO           3597\n",
              "NU_NOTA_MT                3597\n",
              "dtype: int64"
            ]
          },
          "metadata": {
            "tags": []
          },
          "execution_count": 7
        }
      ]
    },
    {
      "cell_type": "markdown",
      "metadata": {
        "id": "4p70kEfRMKjU",
        "colab_type": "text"
      },
      "source": [
        "**Gerando Gráfico De Correlação**"
      ]
    },
    {
      "cell_type": "code",
      "metadata": {
        "id": "LRZo7DZwCxCM",
        "colab_type": "code",
        "outputId": "eff49f86-2313-4cbb-804e-a668212d0105",
        "colab": {
          "base_uri": "https://localhost:8080/",
          "height": 1000
        }
      },
      "source": [
        "for l in correlation_list:\n",
        "  train.plot.scatter('NU_NOTA_MT', l)"
      ],
      "execution_count": 8,
      "outputs": [
        {
          "output_type": "display_data",
          "data": {
            "image/png": "[encoded data removed]",
            "text/plain": [
              "<Figure size 432x288 with 1 Axes>"
            ]
          },
          "metadata": {
            "tags": [],
            "needs_background": "light"
          }
        },
        {
          "output_type": "display_data",
          "data": {
            "image/png": "[encoded data removed]",
            "text/plain": [
              "<Figure size 432x288 with 1 Axes>"
            ]
          },
          "metadata": {
            "tags": [],
            "needs_background": "light"
          }
        },
        {
          "output_type": "display_data",
          "data": {
            "image/png": "[encoded data removed]",
            "text/plain": [
              "<Figure size 432x288 with 1 Axes>"
            ]
          },
          "metadata": {
            "tags": [],
            "needs_background": "light"
          }
        },
        {
          "output_type": "display_data",
          "data": {
            "image/png": "[encoded data removed]",
            "text/plain": [
              "<Figure size 432x288 with 1 Axes>"
            ]
          },
          "metadata": {
            "tags": [],
            "needs_background": "light"
          }
        },
        {
          "output_type": "display_data",
          "data": {
            "image/png": "[encoded data removed]",
            "text/plain": [
              "<Figure size 432x288 with 1 Axes>"
            ]
          },
          "metadata": {
            "tags": [],
            "needs_background": "light"
          }
        },
        {
          "output_type": "display_data",
          "data": {
            "image/png": "[encoded data removed]",
            "text/plain": [
              "<Figure size 432x288 with 1 Axes>"
            ]
          },
          "metadata": {
            "tags": [],
            "needs_background": "light"
          }
        },
        {
          "output_type": "display_data",
          "data": {
            "image/png": "[encoded data removed]",
            "text/plain": [
              "<Figure size 432x288 with 1 Axes>"
            ]
          },
          "metadata": {
            "tags": [],
            "needs_background": "light"
          }
        },
        {
          "output_type": "display_data",
          "data": {
            "image/png": "[encoded data removed]",
            "text/plain": [
              "<Figure size 432x288 with 1 Axes>"
            ]
          },
          "metadata": {
            "tags": [],
            "needs_background": "light"
          }
        },
        {
          "output_type": "display_data",
          "data": {
            "image/png": "[encoded data removed]",
            "text/plain": [
              "<Figure size 432x288 with 1 Axes>"
            ]
          },
          "metadata": {
            "tags": [],
            "needs_background": "light"
          }
        }
      ]
    },
    {
      "cell_type": "markdown",
      "metadata": {
        "id": "5WPfE5fywBvA",
        "colab_type": "text"
      },
      "source": [
        "**Preenchendo Os Valores NaN Com 0**"
      ]
    },
    {
      "cell_type": "code",
      "metadata": {
        "id": "91yoMT5VYMVL",
        "colab_type": "code",
        "colab": {}
      },
      "source": [
        "X, y = train[correlation_list].copy(),train[\"NU_NOTA_MT\"].copy()\n",
        "for item in correlation_list:\n",
        "  X[item].fillna(0, inplace=True)"
      ],
      "execution_count": 0,
      "outputs": []
    },
    {
      "cell_type": "code",
      "metadata": {
        "id": "ul2VTPbKbk46",
        "colab_type": "code",
        "colab": {}
      },
      "source": [
        "y.fillna(0, inplace=True)"
      ],
      "execution_count": 0,
      "outputs": []
    },
    {
      "cell_type": "code",
      "metadata": {
        "id": "5tPTaXdoeoet",
        "colab_type": "code",
        "colab": {}
      },
      "source": [
        "X_train, X_test, y_train, y_test = train_test_split(X, y, test_size=0.3, random_state=193)"
      ],
      "execution_count": 0,
      "outputs": []
    },
    {
      "cell_type": "markdown",
      "metadata": {
        "id": "W-GwaOeqxq7g",
        "colab_type": "text"
      },
      "source": [
        "**XGB Regressor Com Randomized Search**"
      ]
    },
    {
      "cell_type": "code",
      "metadata": {
        "id": "T7f0Wi1Pmz-H",
        "colab_type": "code",
        "colab": {}
      },
      "source": [
        "xg_reg = xgb.XGBRegressor(objective ='reg:squarederror', \n",
        "                          colsample_bytree = 0.8, \n",
        "                          max_depth = 10, \n",
        "                          alpha = 10, \n",
        "                          n_estimators = 150\n",
        "                          )\n",
        "xg_reg_rand = RandomizedSearchCV(xg_reg, \n",
        "                                 {}, \n",
        "                                 random_state=42\n",
        "                                 )"
      ],
      "execution_count": 0,
      "outputs": []
    },
    {
      "cell_type": "code",
      "metadata": {
        "id": "0iPm1cAAgH1L",
        "colab_type": "code",
        "outputId": "d86dc74a-9b8d-4dcf-d667-12664cc4e33b",
        "colab": {
          "base_uri": "https://localhost:8080/",
          "height": 124
        }
      },
      "source": [
        "xg_reg_rand.fit(X_train,y_train)\n",
        "preds = xg_reg_rand.predict(X_test)\n",
        "print(\"RMSE: %f\" % (np.sqrt(mean_squared_error(y_test, preds))))\n",
        "print(\"MSE: %f\" % (np.square(np.subtract(y_test,preds)).mean()))\n",
        "print(\"r2: %f\" % (r2_score(y_test,preds)))\n"
      ],
      "execution_count": 13,
      "outputs": [
        {
          "output_type": "stream",
          "text": [
            "/usr/local/lib/python3.6/dist-packages/sklearn/model_selection/_search.py:281: UserWarning: The total space of parameters 1 is smaller than n_iter=10. Running 1 iterations. For exhaustive searches, use GridSearchCV.\n",
            "  % (grid_size, self.n_iter, grid_size), UserWarning)\n"
          ],
          "name": "stderr"
        },
        {
          "output_type": "stream",
          "text": [
            "RMSE: 64.709052\n",
            "MSE: 4187.261362\n",
            "r2: 0.918673\n"
          ],
          "name": "stdout"
        }
      ]
    },
    {
      "cell_type": "markdown",
      "metadata": {
        "id": "2XtqyqNKxyiw",
        "colab_type": "text"
      },
      "source": [
        "**Gradient Booster Com Randomized Search**\n"
      ]
    },
    {
      "cell_type": "code",
      "metadata": {
        "id": "IUXDqD4yphsU",
        "colab_type": "code",
        "colab": {}
      },
      "source": [
        "grad_boost = GradientBoostingRegressor(random_state=42)\n",
        "grand_boost_rand = RandomizedSearchCV(grad_boost, \n",
        "                                      {}, \n",
        "                                      cv=5, \n",
        "                                      random_state=42)"
      ],
      "execution_count": 0,
      "outputs": []
    },
    {
      "cell_type": "code",
      "metadata": {
        "id": "QJl-QV-7qz9P",
        "colab_type": "code",
        "outputId": "12b4408a-81ae-4636-e9e8-0229f5d5b1a3",
        "colab": {
          "base_uri": "https://localhost:8080/",
          "height": 124
        }
      },
      "source": [
        "grand_boost_rand.fit(X_train,y_train)\n",
        "preds = grand_boost_rand.predict(X_test)\n",
        "print(\"RMSE: %f\" % (np.sqrt(mean_squared_error(y_test, preds))))\n",
        "print(\"MSE: %f\" % (np.square(np.subtract(y_test,preds)).mean()))\n",
        "print(\"r2: %f\" % (r2_score(y_test,preds)))"
      ],
      "execution_count": 15,
      "outputs": [
        {
          "output_type": "stream",
          "text": [
            "/usr/local/lib/python3.6/dist-packages/sklearn/model_selection/_search.py:281: UserWarning: The total space of parameters 1 is smaller than n_iter=10. Running 1 iterations. For exhaustive searches, use GridSearchCV.\n",
            "  % (grid_size, self.n_iter, grid_size), UserWarning)\n"
          ],
          "name": "stderr"
        },
        {
          "output_type": "stream",
          "text": [
            "RMSE: 61.729771\n",
            "MSE: 3810.564688\n",
            "r2: 0.925990\n"
          ],
          "name": "stdout"
        }
      ]
    },
    {
      "cell_type": "markdown",
      "metadata": {
        "id": "eJr6i5yR18so",
        "colab_type": "text"
      },
      "source": [
        "**Random Forest Com Randomized Search**"
      ]
    },
    {
      "cell_type": "code",
      "metadata": {
        "id": "ofGztDE71f-n",
        "colab_type": "code",
        "colab": {}
      },
      "source": [
        "rand_forest = RandomForestRegressor(max_depth=10, \n",
        "                                    random_state=42\n",
        "                                    )\n",
        "rand_forest_rand = RandomizedSearchCV(rand_forest, \n",
        "                                      {}, \n",
        "                                      cv=5, \n",
        "                                      random_state=42\n",
        "                                      )"
      ],
      "execution_count": 0,
      "outputs": []
    },
    {
      "cell_type": "code",
      "metadata": {
        "id": "yDWwoFL-1cyJ",
        "colab_type": "code",
        "outputId": "27a8c3cd-00ef-4bbf-aeb3-55377ac50ace",
        "colab": {
          "base_uri": "https://localhost:8080/",
          "height": 124
        }
      },
      "source": [
        "rand_forest_rand.fit(X_train,y_train)\n",
        "preds = rand_forest_rand.predict(X_test)\n",
        "print(\"RMSE: %f\" % (np.sqrt(mean_squared_error(y_test, preds))))\n",
        "print(\"MSE: %f\" % (np.square(np.subtract(y_test,preds)).mean()))\n",
        "print(\"r2: %f\" % (r2_score(y_test,preds)))"
      ],
      "execution_count": 17,
      "outputs": [
        {
          "output_type": "stream",
          "text": [
            "/usr/local/lib/python3.6/dist-packages/sklearn/model_selection/_search.py:281: UserWarning: The total space of parameters 1 is smaller than n_iter=10. Running 1 iterations. For exhaustive searches, use GridSearchCV.\n",
            "  % (grid_size, self.n_iter, grid_size), UserWarning)\n"
          ],
          "name": "stderr"
        },
        {
          "output_type": "stream",
          "text": [
            "RMSE: 62.217090\n",
            "MSE: 3870.966314\n",
            "r2: 0.924816\n"
          ],
          "name": "stdout"
        }
      ]
    },
    {
      "cell_type": "markdown",
      "metadata": {
        "id": "0CC9bFzCOSms",
        "colab_type": "text"
      },
      "source": [
        "**Iniciando Previsoes Do Dataset Test Com Os Valores NaN Preenchidos Com 0**"
      ]
    },
    {
      "cell_type": "code",
      "metadata": {
        "id": "7QEgF65WheBO",
        "colab_type": "code",
        "colab": {}
      },
      "source": [
        "# Creating The Answer Dataframe\n",
        "answer = pd.DataFrame()\n",
        "answer['NU_INSCRICAO'] = test['NU_INSCRICAO']\n",
        "pred_test = test[correlation_list].fillna(0, inplace=False).copy()"
      ],
      "execution_count": 0,
      "outputs": []
    },
    {
      "cell_type": "code",
      "metadata": {
        "id": "7o3VgdJJOKcY",
        "colab_type": "code",
        "colab": {}
      },
      "source": [
        "pred_answer = grand_boost_rand.predict(pred_test) # Gradient Booster Com Randomized Search"
      ],
      "execution_count": 0,
      "outputs": []
    },
    {
      "cell_type": "code",
      "metadata": {
        "id": "5hzqzi7fQdmc",
        "colab_type": "code",
        "colab": {}
      },
      "source": [
        "answer['NU_NOTA_MT'] = np.around(pred_answer, 2)\n",
        "answer.to_csv('answer.csv', index=False, header=True) # Remove O Index"
      ],
      "execution_count": 0,
      "outputs": []
    },
    {
      "cell_type": "code",
      "metadata": {
        "id": "npDFSSGIZvAY",
        "colab_type": "code",
        "colab": {}
      },
      "source": [
        "pred_answer = xg_reg_rand.predict(pred_test) # XGB Regressor Com Randomized Search"
      ],
      "execution_count": 0,
      "outputs": []
    },
    {
      "cell_type": "code",
      "metadata": {
        "id": "oPAndYl8aGFd",
        "colab_type": "code",
        "colab": {}
      },
      "source": [
        "answer['NU_NOTA_MT'] = np.around(pred_answer, 2)\n",
        "answer.to_csv('answer2.csv', index=False, header=True) # Remove O Index"
      ],
      "execution_count": 0,
      "outputs": []
    },
    {
      "cell_type": "code",
      "metadata": {
        "id": "SKJ2WAR7aHhe",
        "colab_type": "code",
        "colab": {}
      },
      "source": [
        "pred_answer = rand_forest_rand.predict(pred_test) # Random Forest Com Randomized Search"
      ],
      "execution_count": 0,
      "outputs": []
    },
    {
      "cell_type": "code",
      "metadata": {
        "id": "GFasA0I5aKmK",
        "colab_type": "code",
        "colab": {}
      },
      "source": [
        "answer['NU_NOTA_MT'] = np.around(pred_answer, 2)\n",
        "answer.to_csv('answer3.csv', index=False, header=True) # Remove O Index"
      ],
      "execution_count": 0,
      "outputs": []
    },
    {
      "cell_type": "markdown",
      "metadata": {
        "id": "4plmI1LevgQ0",
        "colab_type": "text"
      },
      "source": [
        "**Preenchendo Valores NaN Com A Média**"
      ]
    },
    {
      "cell_type": "code",
      "metadata": {
        "id": "QHfSuU04bmzi",
        "colab_type": "code",
        "colab": {}
      },
      "source": [
        "Z, k = train[correlation_list].copy(), train[\"NU_NOTA_MT\"].copy()\n",
        "for item in correlation_list:\n",
        "  Z[item].fillna(Z[item].mean(), inplace=True)"
      ],
      "execution_count": 0,
      "outputs": []
    },
    {
      "cell_type": "code",
      "metadata": {
        "id": "Tem-6rSic5H9",
        "colab_type": "code",
        "colab": {}
      },
      "source": [
        "k.fillna(k.mean(), inplace=True)"
      ],
      "execution_count": 0,
      "outputs": []
    },
    {
      "cell_type": "code",
      "metadata": {
        "id": "Vf3eeMkFhYVL",
        "colab_type": "code",
        "colab": {}
      },
      "source": [
        "Z_train, Z_test, k_train, k_test = train_test_split(Z, k, test_size=0.2, random_state=148)"
      ],
      "execution_count": 0,
      "outputs": []
    },
    {
      "cell_type": "code",
      "metadata": {
        "id": "rkZRxigjgL6T",
        "colab_type": "code",
        "outputId": "e4bcc9d1-7ab1-4340-c256-4b165c13cad5",
        "colab": {
          "base_uri": "https://localhost:8080/",
          "height": 124
        }
      },
      "source": [
        "xg_reg_rand.fit(Z_train, k_train)\n",
        "preds = xg_reg_rand.predict(Z_test)\n",
        "print(\"RMSE: %f\" % (np.sqrt(mean_squared_error(k_test, preds))))\n",
        "print(\"MSE: %f\" % (np.square(np.subtract(k_test,preds)).mean()))\n",
        "print(\"r2: %f\" % (r2_score(k_test,preds)))"
      ],
      "execution_count": 28,
      "outputs": [
        {
          "output_type": "stream",
          "text": [
            "/usr/local/lib/python3.6/dist-packages/sklearn/model_selection/_search.py:281: UserWarning: The total space of parameters 1 is smaller than n_iter=10. Running 1 iterations. For exhaustive searches, use GridSearchCV.\n",
            "  % (grid_size, self.n_iter, grid_size), UserWarning)\n"
          ],
          "name": "stderr"
        },
        {
          "output_type": "stream",
          "text": [
            "RMSE: 66.048436\n",
            "MSE: 4362.395914\n",
            "r2: 0.412951\n"
          ],
          "name": "stdout"
        }
      ]
    },
    {
      "cell_type": "code",
      "metadata": {
        "id": "0_p5Oh8IInUl",
        "colab_type": "code",
        "outputId": "94751891-0b81-4884-c04a-1b8cb21aca5a",
        "colab": {
          "base_uri": "https://localhost:8080/",
          "height": 124
        }
      },
      "source": [
        "grand_boost_rand.fit(Z_train, k_train)\n",
        "preds = grand_boost_rand.predict(Z_test)\n",
        "print(\"RMSE: %f\" % (np.sqrt(mean_squared_error(k_test, preds))))\n",
        "print(\"MSE: %f\" % (np.square(np.subtract(k_test,preds)).mean()))\n",
        "print(\"r2: %f\" % (r2_score(k_test,preds)))"
      ],
      "execution_count": 29,
      "outputs": [
        {
          "output_type": "stream",
          "text": [
            "/usr/local/lib/python3.6/dist-packages/sklearn/model_selection/_search.py:281: UserWarning: The total space of parameters 1 is smaller than n_iter=10. Running 1 iterations. For exhaustive searches, use GridSearchCV.\n",
            "  % (grid_size, self.n_iter, grid_size), UserWarning)\n"
          ],
          "name": "stderr"
        },
        {
          "output_type": "stream",
          "text": [
            "RMSE: 63.854283\n",
            "MSE: 4077.369422\n",
            "r2: 0.451307\n"
          ],
          "name": "stdout"
        }
      ]
    },
    {
      "cell_type": "markdown",
      "metadata": {
        "id": "-c8lkD-RHngm",
        "colab_type": "text"
      },
      "source": [
        "**Devido Ao Baixo Valor de R2 Preferi Não Continuar**"
      ]
    }
  ],
  "metadata": {
    "colab": {
      "name": "Desafio.ipynb",
      "provenance": [],
      "collapsed_sections": []
    },
    "kernelspec": {
      "name": "python3",
      "display_name": "Python 3"
    }
  },
  "nbformat": 4,
  "nbformat_minor": 0
}